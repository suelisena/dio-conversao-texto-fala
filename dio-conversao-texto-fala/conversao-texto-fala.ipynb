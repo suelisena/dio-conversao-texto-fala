{
 "cells": [
  {
   "cell_type": "code",
   "execution_count": 1,
   "id": "ffceb02f-c1bf-4fa2-bae9-aa72b2cd80a0",
   "metadata": {},
   "outputs": [],
   "source": [
    "from gtts import gTTS\n"
   ]
  },
  {
   "cell_type": "code",
   "execution_count": 2,
   "id": "4dbdeb8d-e2eb-44d2-8916-b6a085f4aab5",
   "metadata": {},
   "outputs": [
    {
     "ename": "FileNotFoundError",
     "evalue": "[Errno 2] No such file or directory: '/content/gtts.wav'",
     "output_type": "error",
     "traceback": [
      "\u001b[1;31m---------------------------------------------------------------------------\u001b[0m",
      "\u001b[1;31mFileNotFoundError\u001b[0m                         Traceback (most recent call last)",
      "Cell \u001b[1;32mIn[2], line 9\u001b[0m\n\u001b[0;32m      3\u001b[0m language \u001b[38;5;241m=\u001b[39m \u001b[38;5;124m\"\u001b[39m\u001b[38;5;124men\u001b[39m\u001b[38;5;124m\"\u001b[39m\n\u001b[0;32m      5\u001b[0m gtts_object \u001b[38;5;241m=\u001b[39m gTTS(text \u001b[38;5;241m=\u001b[39m text_to_say, \n\u001b[0;32m      6\u001b[0m                   lang \u001b[38;5;241m=\u001b[39m language,\n\u001b[0;32m      7\u001b[0m                   slow \u001b[38;5;241m=\u001b[39m \u001b[38;5;28;01mFalse\u001b[39;00m)\n\u001b[1;32m----> 9\u001b[0m gtts_object\u001b[38;5;241m.\u001b[39msave(\u001b[38;5;124m\"\u001b[39m\u001b[38;5;124m/content/gtts.wav\u001b[39m\u001b[38;5;124m\"\u001b[39m)\n\u001b[0;32m     11\u001b[0m \u001b[38;5;28;01mfrom\u001b[39;00m \u001b[38;5;21;01mIPython\u001b[39;00m\u001b[38;5;21;01m.\u001b[39;00m\u001b[38;5;21;01mdisplay\u001b[39;00m \u001b[38;5;28;01mimport\u001b[39;00m Audio\n\u001b[0;32m     13\u001b[0m Audio(\u001b[38;5;124m\"\u001b[39m\u001b[38;5;124m/content/gtts.wav\u001b[39m\u001b[38;5;124m\"\u001b[39m)\n",
      "File \u001b[1;32m~\\anaconda3\\Lib\\site-packages\\gtts\\tts.py:334\u001b[0m, in \u001b[0;36mgTTS.save\u001b[1;34m(self, savefile)\u001b[0m\n\u001b[0;32m    324\u001b[0m \u001b[38;5;28;01mdef\u001b[39;00m \u001b[38;5;21msave\u001b[39m(\u001b[38;5;28mself\u001b[39m, savefile):\n\u001b[0;32m    325\u001b[0m \u001b[38;5;250m    \u001b[39m\u001b[38;5;124;03m\"\"\"Do the TTS API request and write result to file.\u001b[39;00m\n\u001b[0;32m    326\u001b[0m \n\u001b[0;32m    327\u001b[0m \u001b[38;5;124;03m    Args:\u001b[39;00m\n\u001b[1;32m   (...)\u001b[0m\n\u001b[0;32m    332\u001b[0m \n\u001b[0;32m    333\u001b[0m \u001b[38;5;124;03m    \"\"\"\u001b[39;00m\n\u001b[1;32m--> 334\u001b[0m     \u001b[38;5;28;01mwith\u001b[39;00m \u001b[38;5;28mopen\u001b[39m(\u001b[38;5;28mstr\u001b[39m(savefile), \u001b[38;5;124m\"\u001b[39m\u001b[38;5;124mwb\u001b[39m\u001b[38;5;124m\"\u001b[39m) \u001b[38;5;28;01mas\u001b[39;00m f:\n\u001b[0;32m    335\u001b[0m         \u001b[38;5;28mself\u001b[39m\u001b[38;5;241m.\u001b[39mwrite_to_fp(f)\n\u001b[0;32m    336\u001b[0m         f\u001b[38;5;241m.\u001b[39mflush()\n",
      "\u001b[1;31mFileNotFoundError\u001b[0m: [Errno 2] No such file or directory: '/content/gtts.wav'"
     ]
    }
   ],
   "source": [
    "text_to_say = \"Machine Learning is the future of computing.\"\n",
    "\n",
    "language = \"en\"\n",
    "\n",
    "gtts_object = gTTS(text = text_to_say, \n",
    "                  lang = language,\n",
    "                  slow = False)\n",
    "\n",
    "gtts_object.save(\"/content/gtts.wav\")\n",
    "\n",
    "from IPython.display import Audio\n",
    "\n",
    "Audio(\"/content/gtts.wav\")\n",
    "\n",
    "french_text = \"L'apprentissage automatique est l'avenir de l'informatique\"\n",
    "\n",
    "french_language = \"fr\"\n",
    "\n",
    "french_gtts_object = gTTS(text = french_text,\n",
    "                          lang = french_language,\n",
    "                          slow = True)\n",
    "\n",
    "french_gtts_object.save(\"/content/french.wav\")\n",
    "\n",
    "Audio(\"/content/french.wav\")"
   ]
  },
  {
   "cell_type": "code",
   "execution_count": null,
   "id": "7ac1683c-afad-4ea7-9e3b-f8fd5abe3839",
   "metadata": {},
   "outputs": [],
   "source": []
  }
 ],
 "metadata": {
  "kernelspec": {
   "display_name": "Python [conda env:base] *",
   "language": "python",
   "name": "conda-base-py"
  },
  "language_info": {
   "codemirror_mode": {
    "name": "ipython",
    "version": 3
   },
   "file_extension": ".py",
   "mimetype": "text/x-python",
   "name": "python",
   "nbconvert_exporter": "python",
   "pygments_lexer": "ipython3",
   "version": "3.12.7"
  }
 },
 "nbformat": 4,
 "nbformat_minor": 5
}
